{
 "cells": [
  {
   "cell_type": "code",
   "execution_count": 1,
   "metadata": {},
   "outputs": [],
   "source": [
    "%load_ext autoreload\n",
    "%autoreload 2\n"
   ]
  },
  {
   "cell_type": "code",
   "execution_count": null,
   "metadata": {},
   "outputs": [
    {
     "name": "stdout",
     "output_type": "stream",
     "text": [
      "pygame 2.0.0 (SDL 2.0.12, python 3.8.5)\n",
      "Hello from the pygame community. https://www.pygame.org/contribute.html\n"
     ]
    }
   ],
   "source": [
    "import functions\n",
    "\n",
    "def main():\n",
    "    while True:\n",
    "        outputs = functions.user_inputs()\n",
    "\n",
    "        if outputs[0] == 0:\n",
    "            grid = functions.draw(150,150)\n",
    "            functions.game(150,150, 8,grid)\n",
    "        #int(tuple(outputs[1])[1])\n",
    "        if outputs[0] == 1:\n",
    "            grid = functions.draw(150,150)\n",
    "            functions.game(150,150, 8,grid,[],[],1)\n",
    "\n",
    "\n",
    "        if outputs[0] == 2:\n",
    "            alpha_str = outputs[1].split(\",\")\n",
    "            delta_str = outputs[2].split(\",\")\n",
    "            alpha = []\n",
    "            delta = []\n",
    "            for i in alpha_str:\n",
    "                alpha.append(int(i))\n",
    "            for i in delta_str:\n",
    "                delta.append(int(i))\n",
    "            grid = functions.draw(150,150)\n",
    "            functions.game(150,150, 8,grid,alpha,delta)\n",
    "            #I love you\n",
    "if __name__ == \"__main__\":\n",
    "    main()\n",
    "    pygame.quit"
   ]
  },
  {
   "cell_type": "code",
   "execution_count": null,
   "metadata": {},
   "outputs": [],
   "source": [
    "main()"
   ]
  }
 ],
 "metadata": {
  "kernelspec": {
   "display_name": "Python 3",
   "language": "python",
   "name": "python3"
  },
  "language_info": {
   "codemirror_mode": {
    "name": "ipython",
    "version": 3
   },
   "file_extension": ".py",
   "mimetype": "text/x-python",
   "name": "python",
   "nbconvert_exporter": "python",
   "pygments_lexer": "ipython3",
   "version": "3.8.5"
  }
 },
 "nbformat": 4,
 "nbformat_minor": 4
}
